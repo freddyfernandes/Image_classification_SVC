{
 "cells": [
  {
   "cell_type": "code",
   "execution_count": 2,
   "id": "8f80dab3",
   "metadata": {},
   "outputs": [],
   "source": [
    "import os\n",
    "import pickle\n",
    "\n",
    "from skimage.io import imread\n",
    "from skimage.transform import resize\n",
    "import numpy as np\n",
    "from sklearn.model_selection import train_test_split\n",
    "from sklearn.model_selection import GridSearchCV\n",
    "from sklearn.metrics import confusion_matrix, accuracy_score, f1_score\n",
    "from sklearn.svm import SVC"
   ]
  },
  {
   "cell_type": "code",
   "execution_count": 3,
   "id": "b6802eaf",
   "metadata": {},
   "outputs": [],
   "source": [
    "input_dir = 'clf-data'\n",
    "categories = ['empty', 'not_empty']"
   ]
  },
  {
   "cell_type": "code",
   "execution_count": 4,
   "id": "4a0b30f9",
   "metadata": {},
   "outputs": [],
   "source": [
    "data= []\n",
    "labels=[]"
   ]
  },
  {
   "cell_type": "code",
   "execution_count": 5,
   "id": "f573fda9",
   "metadata": {},
   "outputs": [],
   "source": [
    "for category_idx, category in enumerate(categories):\n",
    "    for file in os.listdir(os.path.join(input_dir, category)):\n",
    "        img_path = os.path.join(input_dir, category, file)\n",
    "        img = imread(img_path)\n",
    "        img = resize(img, (15, 15))\n",
    "        data.append(img.flatten()) #flattened into a long array (uni-dim)\n",
    "        labels.append(category_idx)\n",
    "\n",
    "data = np.asarray(data)\n",
    "labels = np.asarray(labels)\n"
   ]
  },
  {
   "cell_type": "code",
   "execution_count": 14,
   "id": "255a99a8",
   "metadata": {},
   "outputs": [],
   "source": [
    "X_train, X_test, y_train, y_test = train_test_split(data, labels, test_size=0.3, shuffle=True, stratify=labels)"
   ]
  },
  {
   "cell_type": "code",
   "execution_count": 15,
   "id": "3e80e2fc",
   "metadata": {},
   "outputs": [],
   "source": [
    "classifier = SVC()\n",
    "# we take 12 different variations of the classifier\n",
    "parameters = [{'gamma':[0.01,0.001,0.0001], 'C': [1,10,100,1000]}]"
   ]
  },
  {
   "cell_type": "code",
   "execution_count": 16,
   "id": "8c0457c1",
   "metadata": {},
   "outputs": [
    {
     "data": {
      "text/plain": [
       "GridSearchCV(estimator=SVC(),\n",
       "             param_grid=[{'C': [1, 10, 100, 1000],\n",
       "                          'gamma': [0.01, 0.001, 0.0001]}])"
      ]
     },
     "execution_count": 16,
     "metadata": {},
     "output_type": "execute_result"
    }
   ],
   "source": [
    "#exhaustive search over the specified param values for the classifier\n",
    "grid_search = GridSearchCV(classifier, parameters) \n",
    "grid_search.fit(X_train,y_train)"
   ]
  },
  {
   "cell_type": "code",
   "execution_count": 17,
   "id": "ebe0b20a",
   "metadata": {},
   "outputs": [],
   "source": [
    "#performance testing\n",
    "best_estimator = grid_search.best_estimator_\n",
    "y_prediction = best_estimator.predict(X_test)"
   ]
  },
  {
   "cell_type": "code",
   "execution_count": 18,
   "id": "27476fee",
   "metadata": {},
   "outputs": [
    {
     "name": "stdout",
     "output_type": "stream",
     "text": [
      "Accuracy: 0.9994\n"
     ]
    }
   ],
   "source": [
    "# Calculating accuracy\n",
    "accuracy = accuracy_score(y_test, y_prediction)\n",
    "print(f'Accuracy: {accuracy:.4f}')\n"
   ]
  },
  {
   "cell_type": "code",
   "execution_count": 19,
   "id": "ed905a6a",
   "metadata": {},
   "outputs": [
    {
     "name": "stdout",
     "output_type": "stream",
     "text": [
      "Confusion Matrix:\n",
      "[[914   0]\n",
      " [  1 840]]\n",
      "F1 Score: 0.9994\n"
     ]
    }
   ],
   "source": [
    "# Creating and printing confusion matrix\n",
    "conf_matrix = confusion_matrix(y_test, y_prediction)\n",
    "print(f'Confusion Matrix:\\n{conf_matrix}')\n",
    "\n",
    "# Calculating and printing F1 score\n",
    "f1 = f1_score(y_test, y_prediction)\n",
    "print(f'F1 Score: {f1:.4f}')"
   ]
  },
  {
   "cell_type": "code",
   "execution_count": 20,
   "id": "88641065",
   "metadata": {},
   "outputs": [],
   "source": [
    "#Saving the model for future use\n",
    "pickle.dump(best_estimator, open('./model.p', 'wb'))"
   ]
  },
  {
   "cell_type": "code",
   "execution_count": null,
   "id": "e7273e37",
   "metadata": {},
   "outputs": [],
   "source": []
  }
 ],
 "metadata": {
  "kernelspec": {
   "display_name": "Python 3 (ipykernel)",
   "language": "python",
   "name": "python3"
  },
  "language_info": {
   "codemirror_mode": {
    "name": "ipython",
    "version": 3
   },
   "file_extension": ".py",
   "mimetype": "text/x-python",
   "name": "python",
   "nbconvert_exporter": "python",
   "pygments_lexer": "ipython3",
   "version": "3.9.12"
  }
 },
 "nbformat": 4,
 "nbformat_minor": 5
}
